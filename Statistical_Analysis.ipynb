{
  "nbformat": 4,
  "nbformat_minor": 0,
  "metadata": {
    "colab": {
      "provenance": [],
      "authorship_tag": "ABX9TyP7S+2bObyV9yNLJZ/KGZjI",
      "include_colab_link": true
    },
    "kernelspec": {
      "name": "python3",
      "display_name": "Python 3"
    },
    "language_info": {
      "name": "python"
    },
    "widgets": {
      "application/vnd.jupyter.widget-state+json": {
        "d9f034ecf5b94445a4b98168a4802c9b": {
          "model_module": "@jupyter-widgets/output",
          "model_name": "OutputModel",
          "model_module_version": "1.0.0",
          "state": {
            "_dom_classes": [],
            "_model_module": "@jupyter-widgets/output",
            "_model_module_version": "1.0.0",
            "_model_name": "OutputModel",
            "_view_count": null,
            "_view_module": "@jupyter-widgets/output",
            "_view_module_version": "1.0.0",
            "_view_name": "OutputView",
            "layout": "IPY_MODEL_34744bccd6b249ff9787eb254e1f443d",
            "msg_id": "",
            "outputs": [
              {
                "output_type": "display_data",
                "data": {
                  "text/plain": "                                                                                                                   \n \u001b[1m \u001b[0m\u001b[1mProgress                \u001b[0m\u001b[1m \u001b[0m \u001b[1m \u001b[0m\u001b[1mDraws\u001b[0m\u001b[1m \u001b[0m \u001b[1m \u001b[0m\u001b[1mDivergences\u001b[0m\u001b[1m \u001b[0m \u001b[1m \u001b[0m\u001b[1mStep size\u001b[0m\u001b[1m \u001b[0m \u001b[1m \u001b[0m\u001b[1mGrad evals\u001b[0m\u001b[1m \u001b[0m \u001b[1m \u001b[0m\u001b[1mSampling Speed \u001b[0m\u001b[1m \u001b[0m \u001b[1m \u001b[0m\u001b[1mElapsed\u001b[0m\u001b[1m \u001b[0m \u001b[1m \u001b[0m\u001b[1mRemaining\u001b[0m\u001b[1m \u001b[0m \n ───────────────────────────────────────────────────────────────────────────────────────────────────────────────── \n  \u001b[38;2;31;119;180m━━━━━━━━━━━━━━━━━━━━━━━━\u001b[0m   1500    0             1.05        3            1479.36 draws/s   0:00:01   0:00:00    \n  \u001b[38;2;31;119;180m━━━━━━━━━━━━━━━━━━━━━━━━\u001b[0m   1500    0             1.37        3            754.81 draws/s    0:00:01   0:00:00    \n                                                                                                                   \n",
                  "text/html": "<pre style=\"white-space:pre;overflow-x:auto;line-height:normal;font-family:Menlo,'DejaVu Sans Mono',consolas,'Courier New',monospace\">                                                                                                                   \n <span style=\"font-weight: bold\"> Progress                 </span> <span style=\"font-weight: bold\"> Draws </span> <span style=\"font-weight: bold\"> Divergences </span> <span style=\"font-weight: bold\"> Step size </span> <span style=\"font-weight: bold\"> Grad evals </span> <span style=\"font-weight: bold\"> Sampling Speed  </span> <span style=\"font-weight: bold\"> Elapsed </span> <span style=\"font-weight: bold\"> Remaining </span> \n ───────────────────────────────────────────────────────────────────────────────────────────────────────────────── \n  <span style=\"color: #1f77b4; text-decoration-color: #1f77b4\">━━━━━━━━━━━━━━━━━━━━━━━━</span>   1500    0             1.05        3            1479.36 draws/s   0:00:01   0:00:00    \n  <span style=\"color: #1f77b4; text-decoration-color: #1f77b4\">━━━━━━━━━━━━━━━━━━━━━━━━</span>   1500    0             1.37        3            754.81 draws/s    0:00:01   0:00:00    \n                                                                                                                   \n</pre>\n"
                },
                "metadata": {}
              }
            ]
          }
        },
        "34744bccd6b249ff9787eb254e1f443d": {
          "model_module": "@jupyter-widgets/base",
          "model_name": "LayoutModel",
          "model_module_version": "1.2.0",
          "state": {
            "_model_module": "@jupyter-widgets/base",
            "_model_module_version": "1.2.0",
            "_model_name": "LayoutModel",
            "_view_count": null,
            "_view_module": "@jupyter-widgets/base",
            "_view_module_version": "1.2.0",
            "_view_name": "LayoutView",
            "align_content": null,
            "align_items": null,
            "align_self": null,
            "border": null,
            "bottom": null,
            "display": null,
            "flex": null,
            "flex_flow": null,
            "grid_area": null,
            "grid_auto_columns": null,
            "grid_auto_flow": null,
            "grid_auto_rows": null,
            "grid_column": null,
            "grid_gap": null,
            "grid_row": null,
            "grid_template_areas": null,
            "grid_template_columns": null,
            "grid_template_rows": null,
            "height": null,
            "justify_content": null,
            "justify_items": null,
            "left": null,
            "margin": null,
            "max_height": null,
            "max_width": null,
            "min_height": null,
            "min_width": null,
            "object_fit": null,
            "object_position": null,
            "order": null,
            "overflow": null,
            "overflow_x": null,
            "overflow_y": null,
            "padding": null,
            "right": null,
            "top": null,
            "visibility": null,
            "width": null
          }
        }
      }
    }
  },
  "cells": [
    {
      "cell_type": "markdown",
      "metadata": {
        "id": "view-in-github",
        "colab_type": "text"
      },
      "source": [
        "<a href=\"https://colab.research.google.com/github/aliaagamall/Deep-Statistical-Analysis/blob/main/Statistical_Analysis.ipynb\" target=\"_parent\"><img src=\"https://colab.research.google.com/assets/colab-badge.svg\" alt=\"Open In Colab\"/></a>"
      ]
    },
    {
      "cell_type": "markdown",
      "source": [
        "# Introduction to Statistical Tests for A/B Testing\n",
        "\n",
        "Welcome👋\n",
        "This enriched notebook now uses realistic A/B testing scenarios from e-commerce and digital marketing, with detailed data presentation, statistical summaries, visualizations, and Python code. I’ll cover `t-test`, `Z-test`, `Chi-square`, `ANOVA`, `Mann-Whitney U`, and `Bayesian tests`, explaining concepts like `normal distribution`, `independent samples`, `equal variance`, and `known variance`.\n",
        "Let’s get started🥰"
      ],
      "metadata": {
        "id": "nmjlnzxuW75B"
      }
    },
    {
      "cell_type": "markdown",
      "source": [
        "### Key Concepts\n",
        "\n",
        "1. **Normal Distribution:** Bell-shaped data where most values cluster around the mean (e.g., average order value ~$50 with slight variation).\n",
        "2. **Independent Samples:** Distinct user groups (e.g., separate customers for each ad campaign).\n",
        "3. **Equal Variance:** Similar data spread across groups (e.g., similar standard deviations in purchase amounts).\n",
        "4. **Known Variance:** Pre-known population variability (e.g., historical click-through rates vary by 1.5%)."
      ],
      "metadata": {
        "id": "V8EN3sC2Xhcl"
      }
    },
    {
      "cell_type": "markdown",
      "source": [
        "### **Overview of Statistical Tests:**  \n",
        "  - Statistical tests help determine if differences between groups (e.g., ads or prices) are real or due to chance.  \n",
        "  - Each test has a purpose: t-test and Z-test for numerical data, Chi-square for categorical (yes/no), ANOVA for multiple groups, Mann-Whitney for uneven data, and Bayesian for small samples with probabilities.  \n",
        "  - Goal is to make informed decisions to improve business outcomes.  \n",
        "\n",
        "- **What is p-value?:**  \n",
        "  - p-value indicates if a difference is significant or random.  \n",
        "  - If p-value < 0.05 (less than 5% chance of randomness), the difference is considered real.  \n",
        "  - If p-value > 0.05, the difference isn’t strong enough, needing more testing.  \n",
        "  - Acts like a confidence meter for results."
      ],
      "metadata": {
        "id": "6cFvKSN0ptnD"
      }
    },
    {
      "cell_type": "code",
      "source": [
        "import pandas as pd\n",
        "import numpy as np\n",
        "import matplotlib.pyplot as plt\n",
        "import seaborn as sns\n",
        "from scipy.stats import ttest_ind , chi2_contingency , f_oneway , mannwhitneyu\n",
        "from statsmodels.stats.weightstats import ztest\n",
        "import pymc as pm\n",
        "from tabulate import tabulate"
      ],
      "metadata": {
        "id": "_lP7Ul0zYBBV"
      },
      "execution_count": 1,
      "outputs": []
    },
    {
      "cell_type": "code",
      "source": [
        "np.random.seed(42)"
      ],
      "metadata": {
        "id": "d359NPGmYFx4"
      },
      "execution_count": 2,
      "outputs": []
    },
    {
      "cell_type": "markdown",
      "source": [
        "## t-test (Comparing Ad Campaign Conversion Rates)\n",
        "\n",
        "**Scenario:** Testing two ad designs for an online store selling shoes. Control ad (blue banner) vs. Treatment ad (red banner) with 500 users each."
      ],
      "metadata": {
        "id": "_Lxjxz7eXysB"
      }
    },
    {
      "cell_type": "code",
      "execution_count": 3,
      "metadata": {
        "colab": {
          "base_uri": "https://localhost:8080/"
        },
        "id": "9h6DDMzgV9f6",
        "outputId": "bbb7e750-6a30-40a7-e644-5048ebb7b4b2"
      },
      "outputs": [
        {
          "output_type": "stream",
          "name": "stdout",
          "text": [
            "Data Preview:\n",
            "|     | ad_type   |   converted |\n",
            "|----:|:----------|------------:|\n",
            "| 672 | treatment |           0 |\n",
            "|  33 | control   |           1 |\n",
            "| 751 | treatment |           1 |\n",
            "| 611 | treatment |           1 |\n",
            "| 179 | control   |           0 |\n",
            "\n",
            "Statistical Summary:\n",
            "| ad_type   |   count |   mean |      std |   min |   25% |   50% |   75% |   max |\n",
            "|:----------|--------:|-------:|---------:|------:|------:|------:|------:|------:|\n",
            "| control   |     500 |  0.184 | 0.387872 |     0 |     0 |     0 |     0 |     1 |\n",
            "| treatment |     500 |  0.206 | 0.404836 |     0 |     0 |     0 |     0 |     1 |\n"
          ]
        }
      ],
      "source": [
        "data_ttest = pd.DataFrame({\n",
        "    'ad_type': ['control'] * 500 + ['treatment'] * 500,\n",
        "    'converted': np.concatenate([\n",
        "        np.random.binomial(1, 0.18, 500),  # 18% conversion (blue banner)\n",
        "        np.random.binomial(1, 0.22, 500)   # 22% conversion (red banner)\n",
        "    ])\n",
        "})\n",
        "\n",
        "# Display data preview and summary\n",
        "print(\"Data Preview:\")\n",
        "print(tabulate(data_ttest.sample(5) , headers='keys', tablefmt='pipe'))\n",
        "print(\"\\nStatistical Summary:\")\n",
        "print(tabulate(data_ttest.groupby('ad_type')['converted'].describe(), headers='keys', tablefmt='pipe'))"
      ]
    },
    {
      "cell_type": "code",
      "source": [
        "plt.figure(figsize=(8, 5))\n",
        "ax = sns.countplot(x='ad_type', hue='converted', data=data_ttest)\n",
        "plt.title(\"Conversion Rates\")\n",
        "plt.xlabel(\"Ad Type\")\n",
        "plt.ylabel(\"Count\")\n",
        "plt.show()"
      ],
      "metadata": {
        "colab": {
          "base_uri": "https://localhost:8080/",
          "height": 487
        },
        "id": "9AuSRUILYOqt",
        "outputId": "788433a5-f752-46d2-ca8a-900fbe3b4398"
      },
      "execution_count": 4,
      "outputs": [
        {
          "output_type": "display_data",
          "data": {
            "text/plain": [
              "<Figure size 800x500 with 1 Axes>"
            ],
            "image/png": "[encoded data removed]"
          },
          "metadata": {}
        }
      ]
    },
    {
      "cell_type": "code",
      "source": [
        "# Extract groups\n",
        "control_group = data_ttest[data_ttest['ad_type'] == 'control']['converted']\n",
        "treatment_group = data_ttest[data_ttest['ad_type'] == 'treatment']['converted']\n",
        "\n",
        "# Perform t-test\n",
        "t_stat, p_value = ttest_ind(control_group, treatment_group)\n",
        "print(\"\\nT-test Results:\")\n",
        "print(f\"t-statistic: {t_stat:.2f}\")\n",
        "print(f\"p-value: {p_value:.4f}\")"
      ],
      "metadata": {
        "colab": {
          "base_uri": "https://localhost:8080/"
        },
        "id": "NDampO0SYjhu",
        "outputId": "fa2772fe-bc11-4ce8-ec48-7834a77d2527"
      },
      "execution_count": 5,
      "outputs": [
        {
          "output_type": "stream",
          "name": "stdout",
          "text": [
            "\n",
            "T-test Results:\n",
            "t-statistic: -0.88\n",
            "p-value: 0.3805\n"
          ]
        }
      ]
    },
    {
      "cell_type": "markdown",
      "source": [
        "**Interpretation**: p-value > 0.05, no significant difference (4% lift not conclusive)."
      ],
      "metadata": {
        "id": "aGaTRLXUZEFo"
      }
    },
    {
      "cell_type": "markdown",
      "source": [
        "## Z-test (Large-Scale Email Campaign Open Rates)\n",
        "**Scenario**: Testing email subject lines for a retail chain. Control (generic subject) vs. Treatment (personalized subject) with 10,000 users each."
      ],
      "metadata": {
        "id": "xRTm_dznZLH4"
      }
    },
    {
      "cell_type": "code",
      "source": [
        "data_ztest = pd.DataFrame({\n",
        "    'email_type': ['control'] * 10000 + ['treatment'] * 10000,\n",
        "    'opened': np.concatenate([\n",
        "        np.random.binomial(1, 0.25, 10000),  # 25% open rate\n",
        "        np.random.binomial(1, 0.28, 10000)   # 28% open rate\n",
        "    ])\n",
        "})\n",
        "\n",
        "print(\"Data Preview:\")\n",
        "print(tabulate(data_ztest.sample(5) , headers='keys', tablefmt='pipe'))\n",
        "print(\"\\nStatistical Summary:\")\n",
        "print(tabulate(data_ztest.groupby('email_type')['opened'].describe(), headers='keys', tablefmt='pipe'))"
      ],
      "metadata": {
        "colab": {
          "base_uri": "https://localhost:8080/"
        },
        "id": "c3cBOwHJYx80",
        "outputId": "791f63ee-c80c-4352-cae8-dc20f6ba9aa9"
      },
      "execution_count": 6,
      "outputs": [
        {
          "output_type": "stream",
          "name": "stdout",
          "text": [
            "Data Preview:\n",
            "|       | email_type   |   opened |\n",
            "|------:|:-------------|---------:|\n",
            "| 10672 | treatment    |        0 |\n",
            "|  6114 | control      |        1 |\n",
            "|   199 | control      |        1 |\n",
            "|  1893 | control      |        1 |\n",
            "| 15784 | treatment    |        0 |\n",
            "\n",
            "Statistical Summary:\n",
            "| email_type   |   count |   mean |      std |   min |   25% |   50% |   75% |   max |\n",
            "|:-------------|--------:|-------:|---------:|------:|------:|------:|------:|------:|\n",
            "| control      |   10000 | 0.2463 | 0.430877 |     0 |     0 |     0 |     0 |     1 |\n",
            "| treatment    |   10000 | 0.2759 | 0.446989 |     0 |     0 |     0 |     1 |     1 |\n"
          ]
        }
      ]
    },
    {
      "cell_type": "code",
      "source": [
        "# Extract groups\n",
        "control_group = data_ztest[data_ztest['email_type'] == 'control']['opened']\n",
        "treatment_group = data_ztest[data_ztest['email_type'] == 'treatment']['opened']\n",
        "\n",
        "# Perform Z-test\n",
        "z_stat, p_value = ztest(control_group, treatment_group)\n",
        "print(\"\\nZ-test Results:\")\n",
        "print(f\"z-statistic: {z_stat:.2f}\")\n",
        "print(f\"p-value: {p_value:.4f}\")"
      ],
      "metadata": {
        "colab": {
          "base_uri": "https://localhost:8080/"
        },
        "id": "BnCIxgccb1JX",
        "outputId": "6d4ea1a1-0059-48fb-f58e-68839343cfd8"
      },
      "execution_count": 7,
      "outputs": [
        {
          "output_type": "stream",
          "name": "stdout",
          "text": [
            "\n",
            "Z-test Results:\n",
            "z-statistic: -4.77\n",
            "p-value: 0.0000\n"
          ]
        }
      ]
    },
    {
      "cell_type": "markdown",
      "source": [
        "**Interpretation**: p-value < 0.05, 3% lift is significant."
      ],
      "metadata": {
        "id": "lBTX9ICRgINK"
      }
    },
    {
      "cell_type": "markdown",
      "source": [
        "## Chi-square Test (Product Page Layout Preferences)\n",
        "\n",
        "**Scenario**: Testing two layouts for a product page (Layout A vs. Layout B) with 5,000 users each, tracking purchases."
      ],
      "metadata": {
        "id": "RDT38BVngR5A"
      }
    },
    {
      "cell_type": "code",
      "source": [
        "np.random.seed(42)\n",
        "data_chisq = pd.DataFrame({\n",
        "    'layout': ['A'] * 5000 + ['B'] * 5000,\n",
        "    'purchased': np.concatenate([\n",
        "        np.random.binomial(1, 0.15, 5000),  # 15% purchase rate\n",
        "        np.random.binomial(1, 0.17, 5000)   # 17% purchase rate\n",
        "    ])\n",
        "})\n",
        "contingency_table = pd.crosstab(data_chisq['layout'], data_chisq['purchased'])\n",
        "\n",
        "print(\"Contingency Table:\")\n",
        "print(tabulate(contingency_table, headers='keys', tablefmt='pipe'))\n",
        "print(\"\\nStatistical Summary:\")\n",
        "print(tabulate(data_chisq.groupby('layout')['purchased'].agg(['mean', 'count']), headers='keys', tablefmt='pipe'))"
      ],
      "metadata": {
        "colab": {
          "base_uri": "https://localhost:8080/"
        },
        "id": "aB3FdzulgA0u",
        "outputId": "6c0b9294-16a4-49ca-9a05-08e1044fb481"
      },
      "execution_count": 8,
      "outputs": [
        {
          "output_type": "stream",
          "name": "stdout",
          "text": [
            "Contingency Table:\n",
            "| layout   |    0 |   1 |\n",
            "|:---------|-----:|----:|\n",
            "| A        | 4270 | 730 |\n",
            "| B        | 4195 | 805 |\n",
            "\n",
            "Statistical Summary:\n",
            "| layout   |   mean |   count |\n",
            "|:---------|-------:|--------:|\n",
            "| A        |  0.146 |    5000 |\n",
            "| B        |  0.161 |    5000 |\n"
          ]
        }
      ]
    },
    {
      "cell_type": "code",
      "source": [
        "contingency_table.plot(kind='bar', stacked=True)\n",
        "plt.title(\"Purchases by Layout (A vs. B)\")\n",
        "plt.xlabel(\"Layout\")\n",
        "plt.ylabel(\"Count\")\n",
        "plt.show()"
      ],
      "metadata": {
        "colab": {
          "base_uri": "https://localhost:8080/",
          "height": 467
        },
        "id": "sTlMFf1IgaT9",
        "outputId": "fcf738fc-be95-42db-a106-01343dcdf8b5"
      },
      "execution_count": 9,
      "outputs": [
        {
          "output_type": "display_data",
          "data": {
            "text/plain": [
              "<Figure size 640x480 with 1 Axes>"
            ],
            "image/png": "[encoded data removed]"
          },
          "metadata": {}
        }
      ]
    },
    {
      "cell_type": "code",
      "source": [
        "# Perform Chi-square test\n",
        "chi2, p_value, dof, expected = chi2_contingency(contingency_table)\n",
        "print(\"\\nChi-square Test Results:\")\n",
        "print(f\"Chi2 statistic: {chi2:.2f}\")\n",
        "print(f\"p-value: {p_value:.4f}\")"
      ],
      "metadata": {
        "colab": {
          "base_uri": "https://localhost:8080/"
        },
        "id": "Q-i2W5qCg5DF",
        "outputId": "05d7edb7-c05f-43b3-9b6c-2a916f9f3aa6"
      },
      "execution_count": 10,
      "outputs": [
        {
          "output_type": "stream",
          "name": "stdout",
          "text": [
            "\n",
            "Chi-square Test Results:\n",
            "Chi2 statistic: 4.21\n",
            "p-value: 0.0401\n"
          ]
        }
      ]
    },
    {
      "cell_type": "markdown",
      "source": [
        "**Interpretation**: p-value < 0.05, layout impacts purchases."
      ],
      "metadata": {
        "id": "j-k__5a3hdcz"
      }
    },
    {
      "cell_type": "markdown",
      "source": [
        "## ANOVA (Testing Multiple Pricing Strategies)\n",
        "\n",
        "**Scenario**: Testing three pricing tiers (\\$49, \\$59, \\$69) for a subscription service with 300 users each."
      ],
      "metadata": {
        "id": "zF63GK0uhmDG"
      }
    },
    {
      "cell_type": "code",
      "source": [
        "np.random.seed(42)\n",
        "data_anova = pd.DataFrame({\n",
        "    'price_tier': ['$49'] * 300 + ['$59'] * 300 + ['$69'] * 300,\n",
        "    'subscribed': np.concatenate([\n",
        "        np.random.binomial(1, 0.20, 300),  # 20% subscription\n",
        "        np.random.binomial(1, 0.18, 300),  # 18% subscription\n",
        "        np.random.binomial(1, 0.15, 300)   # 15% subscription\n",
        "    ])\n",
        "})\n",
        "\n",
        "print(\"Data Preview:\")\n",
        "print(tabulate(data_anova.head() , headers='keys', tablefmt='pipe'))\n",
        "print(\"\\nStatistical Summary:\")\n",
        "print(tabulate(data_anova.groupby('price_tier')['subscribed'].agg(['mean', 'count' , 'std']), headers='keys', tablefmt='pipe'))"
      ],
      "metadata": {
        "colab": {
          "base_uri": "https://localhost:8080/"
        },
        "id": "JSuD3n_UhKK4",
        "outputId": "25a132db-5ba1-4b9c-f9b6-28bfbcff377e"
      },
      "execution_count": 11,
      "outputs": [
        {
          "output_type": "stream",
          "name": "stdout",
          "text": [
            "Data Preview:\n",
            "|    | price_tier   |   subscribed |\n",
            "|---:|:-------------|-------------:|\n",
            "|  0 | $49          |            0 |\n",
            "|  1 | $49          |            1 |\n",
            "|  2 | $49          |            0 |\n",
            "|  3 | $49          |            0 |\n",
            "|  4 | $49          |            0 |\n",
            "\n",
            "Statistical Summary:\n",
            "| price_tier   |     mean |   count |      std |\n",
            "|:-------------|---------:|--------:|---------:|\n",
            "| $49          | 0.21     |     300 | 0.407989 |\n",
            "| $59          | 0.206667 |     300 | 0.405591 |\n",
            "| $69          | 0.13     |     300 | 0.336865 |\n"
          ]
        }
      ]
    },
    {
      "cell_type": "code",
      "source": [
        "tier_49 = data_anova[data_anova['price_tier'] == '$49']['subscribed']\n",
        "tier_59 = data_anova[data_anova['price_tier'] == '$59']['subscribed']\n",
        "tier_69 = data_anova[data_anova['price_tier'] == '$69']['subscribed']\n",
        "\n",
        "# Perform ANOVA\n",
        "f_stat, p_value = f_oneway(tier_49, tier_59, tier_69)\n",
        "print(\"\\nANOVA Results:\")\n",
        "print(f\"F-statistic: {f_stat:.2f}\")\n",
        "print(f\"p-value: {p_value:.4f}\")"
      ],
      "metadata": {
        "colab": {
          "base_uri": "https://localhost:8080/"
        },
        "id": "XVDBe1ApikbZ",
        "outputId": "86f56e53-1365-441f-ec3e-c3167e38f29a"
      },
      "execution_count": 12,
      "outputs": [
        {
          "output_type": "stream",
          "name": "stdout",
          "text": [
            "\n",
            "ANOVA Results:\n",
            "F-statistic: 4.15\n",
            "p-value: 0.0161\n"
          ]
        }
      ]
    },
    {
      "cell_type": "markdown",
      "source": [
        "**Interpretation**: p-value < 0.05, pricing impacts subscriptions."
      ],
      "metadata": {
        "id": "Z9uJNeD4i0Ip"
      }
    },
    {
      "cell_type": "markdown",
      "source": [
        "## Mann-Whitney U Test (Session Duration on Mobile vs. Desktop)\n",
        "\n",
        "**Scenario**: Comparing session durations (in minutes) for a news app on mobile (mean 4 min) vs. desktop (mean 6 min) with 100 users each."
      ],
      "metadata": {
        "id": "4uD-wviri4T0"
      }
    },
    {
      "cell_type": "code",
      "source": [
        "np.random.seed(42)\n",
        "data_mw = pd.DataFrame({\n",
        "    'device': ['mobile'] * 100 + ['desktop'] * 100,\n",
        "    'session_duration': np.concatenate([\n",
        "        np.random.normal(4, 1.2, 100),  # Mean 4 min, std 1.2\n",
        "        np.random.normal(6, 1.5, 100)   # Mean 6 min, std 1.5\n",
        "    ])\n",
        "})\n",
        "\n",
        "print(\"Data Preview:\")\n",
        "print(tabulate(data_mw.sample(5) , headers='keys', tablefmt='pipe'))\n",
        "print(\"\\nStatistical Summary:\")\n",
        "print(tabulate(data_mw.groupby('device')['session_duration'].describe() , headers='keys', tablefmt='pipe'))"
      ],
      "metadata": {
        "colab": {
          "base_uri": "https://localhost:8080/"
        },
        "id": "kt__R-hUivTG",
        "outputId": "8c0369f9-b4b6-4894-ca27-d570094c2edf"
      },
      "execution_count": 13,
      "outputs": [
        {
          "output_type": "stream",
          "name": "stdout",
          "text": [
            "Data Preview:\n",
            "|     | device   |   session_duration |\n",
            "|----:|:---------|-------------------:|\n",
            "|  17 | mobile   |            4.3771  |\n",
            "|  79 | mobile   |            1.61492 |\n",
            "| 104 | desktop  |            5.75807 |\n",
            "| 174 | desktop  |            6.41504 |\n",
            "| 148 | desktop  |            6.78291 |\n",
            "\n",
            "Statistical Summary:\n",
            "| device   |   count |    mean |    std |      min |     25% |     50% |     75% |      max |\n",
            "|:---------|--------:|--------:|-------:|---------:|--------:|--------:|--------:|---------:|\n",
            "| desktop  |     100 | 6.03346 | 1.4305 | 3.12184  | 4.79151 | 6.12616 | 6.80726 | 10.0803  |\n",
            "| mobile   |     100 | 3.87538 | 1.0898 | 0.856306 | 3.27891 | 3.84765 | 4.48714 |  6.22273 |\n"
          ]
        }
      ]
    },
    {
      "cell_type": "code",
      "source": [
        "sns.histplot(data=data_mw, x='session_duration', hue='device', kde=True)\n",
        "plt.title(\"Session Duration: Mobile vs. Desktop\")\n",
        "plt.show()"
      ],
      "metadata": {
        "colab": {
          "base_uri": "https://localhost:8080/",
          "height": 472
        },
        "id": "C_TGJRUVjDh4",
        "outputId": "d55ced27-58bf-4948-aecc-36c730a72ba5"
      },
      "execution_count": 14,
      "outputs": [
        {
          "output_type": "display_data",
          "data": {
            "text/plain": [
              "<Figure size 640x480 with 1 Axes>"
            ],
            "image/png": "[encoded data removed]"
          },
          "metadata": {}
        }
      ]
    },
    {
      "cell_type": "code",
      "source": [
        "# Extract groups\n",
        "mobile_group = data_mw[data_mw['device'] == 'mobile']['session_duration']\n",
        "desktop_group = data_mw[data_mw['device'] == 'desktop']['session_duration']\n",
        "\n",
        "# Perform Mann-Whitney U test\n",
        "u_stat, p_value = mannwhitneyu(mobile_group, desktop_group)\n",
        "print(\"\\nMann-Whitney U Test Results:\")\n",
        "print(f\"U-statistic: {u_stat:.2f}\")\n",
        "print(f\"p-value: {p_value:.4f}\")"
      ],
      "metadata": {
        "colab": {
          "base_uri": "https://localhost:8080/"
        },
        "id": "jrNL7hXBjLOP",
        "outputId": "9943f0a7-f934-494c-d23e-674064f47415"
      },
      "execution_count": 15,
      "outputs": [
        {
          "output_type": "stream",
          "name": "stdout",
          "text": [
            "\n",
            "Mann-Whitney U Test Results:\n",
            "U-statistic: 1117.00\n",
            "p-value: 0.0000\n"
          ]
        }
      ]
    },
    {
      "cell_type": "markdown",
      "source": [
        "**Interpretation**: p-value < 0.05, significant difference in durations."
      ],
      "metadata": {
        "id": "Nkx_-athjezv"
      }
    },
    {
      "cell_type": "markdown",
      "source": [
        "## Bayesian Test (Upsell Offer Acceptance)\n",
        "\n",
        "**Scenario**: Testing an upsell offer (add warranty for $10) on a checkout page, with 100 users each for control (no offer) vs. treatment (offer)."
      ],
      "metadata": {
        "id": "ft5TgJemj5x1"
      }
    },
    {
      "cell_type": "code",
      "source": [
        "np.random.seed(42)\n",
        "data_bayesian = pd.DataFrame({\n",
        "    'offer_type': ['control'] * 100 + ['treatment'] * 100,\n",
        "    'accepted': np.concatenate([\n",
        "        np.random.binomial(1, 0.10, 100),  # 10% acceptance\n",
        "        np.random.binomial(1, 0.14, 100)   # 14% acceptance\n",
        "    ])\n",
        "})\n",
        "\n",
        "print(\"Data Preview:\")\n",
        "print(tabulate(data_bayesian.head() , headers='keys', tablefmt='pipe'))\n",
        "print(\"\\nStatistical Summary:\")\n",
        "print(tabulate(data_bayesian.groupby('offer_type')['accepted'].describe() , headers='keys', tablefmt='pipe'))"
      ],
      "metadata": {
        "colab": {
          "base_uri": "https://localhost:8080/"
        },
        "id": "bJKTjnOXjbFk",
        "outputId": "46e98202-5502-430b-d4a0-3f575a871359"
      },
      "execution_count": 16,
      "outputs": [
        {
          "output_type": "stream",
          "name": "stdout",
          "text": [
            "Data Preview:\n",
            "|    | offer_type   |   accepted |\n",
            "|---:|:-------------|-----------:|\n",
            "|  0 | control      |          0 |\n",
            "|  1 | control      |          1 |\n",
            "|  2 | control      |          0 |\n",
            "|  3 | control      |          0 |\n",
            "|  4 | control      |          0 |\n",
            "\n",
            "Statistical Summary:\n",
            "| offer_type   |   count |   mean |      std |   min |   25% |   50% |   75% |   max |\n",
            "|:-------------|--------:|-------:|---------:|------:|------:|------:|------:|------:|\n",
            "| control      |     100 |   0.09 | 0.287623 |     0 |     0 |     0 |     0 |     1 |\n",
            "| treatment    |     100 |   0.18 | 0.386123 |     0 |     0 |     0 |     0 |     1 |\n"
          ]
        }
      ]
    },
    {
      "cell_type": "code",
      "source": [
        "sns.countplot(x='offer_type', hue='accepted', data=data_bayesian)\n",
        "plt.title(\"Upsell Offer Acceptance\")\n",
        "plt.show()"
      ],
      "metadata": {
        "colab": {
          "base_uri": "https://localhost:8080/",
          "height": 472
        },
        "id": "V3HNPF7ykMOH",
        "outputId": "d008788e-9d41-43cc-8df6-870e1455c958"
      },
      "execution_count": 17,
      "outputs": [
        {
          "output_type": "display_data",
          "data": {
            "text/plain": [
              "<Figure size 640x480 with 1 Axes>"
            ],
            "image/png": "[encoded data removed]"
          },
          "metadata": {}
        }
      ]
    },
    {
      "cell_type": "code",
      "source": [
        "# Define Bayesian model\n",
        "with pm.Model() as model:\n",
        "    p_control = pm.Beta('p_control', alpha=1, beta=1)\n",
        "    p_treatment = pm.Beta('p_treatment', alpha=1, beta=1)\n",
        "    obs_control = pm.Bernoulli('obs_control', p=p_control, observed=data_bayesian[data_bayesian['offer_type'] == 'control']['accepted'])\n",
        "    obs_treatment = pm.Bernoulli('obs_treatment', p=p_treatment, observed=data_bayesian[data_bayesian['offer_type'] == 'treatment']['accepted'])\n",
        "    trace = pm.sample(1000, tune=500)\n",
        "\n",
        "# Calculate probability\n",
        "prob_better = (trace.posterior['p_treatment'] > trace.posterior['p_control']).mean()\n",
        "print(\"\\nBayesian Test Results:\")\n",
        "print(f\"Probability Treatment > Control: {prob_better:.2%}\")"
      ],
      "metadata": {
        "colab": {
          "base_uri": "https://localhost:8080/",
          "height": 165,
          "referenced_widgets": [
            "d9f034ecf5b94445a4b98168a4802c9b",
            "34744bccd6b249ff9787eb254e1f443d"
          ]
        },
        "id": "Pr02f5DbkWaV",
        "outputId": "dd5901f8-552d-4046-fc63-8a8812272adf"
      },
      "execution_count": 18,
      "outputs": [
        {
          "output_type": "display_data",
          "data": {
            "text/plain": [
              "Output()"
            ],
            "application/vnd.jupyter.widget-view+json": {
              "version_major": 2,
              "version_minor": 0,
              "model_id": "d9f034ecf5b94445a4b98168a4802c9b"
            }
          },
          "metadata": {}
        },
        {
          "output_type": "display_data",
          "data": {
            "text/plain": [],
            "text/html": [
              "<pre style=\"white-space:pre;overflow-x:auto;line-height:normal;font-family:Menlo,'DejaVu Sans Mono',consolas,'Courier New',monospace\"></pre>\n"
            ]
          },
          "metadata": {}
        },
        {
          "output_type": "stream",
          "name": "stdout",
          "text": [
            "\n",
            "Bayesian Test Results:\n",
            "Probability Treatment > Control: 97.05%\n"
          ]
        }
      ]
    },
    {
      "cell_type": "markdown",
      "source": [
        "**Interpretation**: 96.95% chance upsell offer improves acceptance."
      ],
      "metadata": {
        "id": "OWkGluFDlfg3"
      }
    },
    {
      "cell_type": "markdown",
      "source": [
        "\n",
        "# Comparison Table\n",
        "\n",
        "| Test            | Data Type    | Assumes Normal Distribution | Independent Samples | Equal Variance | Known Variance | Best For                  |\n",
        "|-----------------|--------------|-----------------------------|---------------------|----------------|----------------|---------------------------|\n",
        "| **t-test**      | Numerical    | Yes                         | Yes                 | Yes            | No             | Two groups, medium samples |\n",
        "| **Z-test**      | Numerical    | Yes                         | Yes                 | No             | Yes            | Large samples             |\n",
        "| **Chi-square**  | Categorical  | No                          | Yes                 | No             | No             | Yes/No data               |\n",
        "| **ANOVA**       | Numerical    | Yes                         | Yes                 | Yes            | No             | Multiple groups           |\n",
        "| **Mann-Whitney**| Numerical    | No                          | Yes                 | No             | No             | Skewed data               |\n",
        "| **Bayesian**    | Categorical/Numerical | No              | Yes                 | No             | No             | Small samples, flexibility|"
      ],
      "metadata": {
        "id": "tDnNyIZllsSs"
      }
    },
    {
      "cell_type": "code",
      "source": [],
      "metadata": {
        "id": "TbFJ4PmylKz6"
      },
      "execution_count": 18,
      "outputs": []
    }
  ]
}